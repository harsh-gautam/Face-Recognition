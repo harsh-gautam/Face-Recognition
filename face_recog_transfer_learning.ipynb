{
  "nbformat": 4,
  "nbformat_minor": 0,
  "metadata": {
    "kernelspec": {
      "display_name": "Python 3",
      "language": "python",
      "name": "python3"
    },
    "language_info": {
      "codemirror_mode": {
        "name": "ipython",
        "version": 3
      },
      "file_extension": ".py",
      "mimetype": "text/x-python",
      "name": "python",
      "nbconvert_exporter": "python",
      "pygments_lexer": "ipython3",
      "version": "3.7.4"
    },
    "colab": {
      "name": "face_recog_transfer_learning.ipynb",
      "provenance": []
    },
    "accelerator": "GPU"
  },
  "cells": [
    {
      "cell_type": "code",
      "metadata": {
        "id": "aFjHr8tQLggo",
        "colab_type": "code",
        "colab": {
          "base_uri": "https://localhost:8080/",
          "height": 124
        },
        "outputId": "38f200f8-8dc7-4be0-f405-7a543a943a02"
      },
      "source": [
        "from google.colab import drive\n",
        "drive.mount('/content/drive')"
      ],
      "execution_count": 1,
      "outputs": [
        {
          "output_type": "stream",
          "text": [
            "Go to this URL in a browser: https://accounts.google.com/o/oauth2/auth?client_id=947318989803-6bn6qk8qdgf4n4g3pfee6491hc0brc4i.apps.googleusercontent.com&redirect_uri=urn%3aietf%3awg%3aoauth%3a2.0%3aoob&response_type=code&scope=email%20https%3a%2f%2fwww.googleapis.com%2fauth%2fdocs.test%20https%3a%2f%2fwww.googleapis.com%2fauth%2fdrive%20https%3a%2f%2fwww.googleapis.com%2fauth%2fdrive.photos.readonly%20https%3a%2f%2fwww.googleapis.com%2fauth%2fpeopleapi.readonly\n",
            "\n",
            "Enter your authorization code:\n",
            "··········\n",
            "Mounted at /content/drive\n"
          ],
          "name": "stdout"
        }
      ]
    },
    {
      "cell_type": "code",
      "metadata": {
        "scrolled": true,
        "id": "ebcCsZJrLLu-",
        "colab_type": "code",
        "colab": {}
      },
      "source": [
        "from keras.applications import MobileNet\n",
        "\n",
        "# MobileNetV2 takes input of 224x224 images\n",
        "img_rows = 224\n",
        "img_cols = 224\n",
        "\n",
        "mn_model = MobileNet(weights='imagenet',\n",
        "                       include_top=False,\n",
        "                       input_shape=(img_rows, img_cols, 3))\n",
        "\n",
        "# Freezing the bottom_model layers to preserve original weights.\n",
        "for layer in mn_model.layers:\n",
        "    layer.trainable=False"
      ],
      "execution_count": 23,
      "outputs": []
    },
    {
      "cell_type": "code",
      "metadata": {
        "id": "M0q3fW9fLLva",
        "colab_type": "code",
        "colab": {}
      },
      "source": [
        "from keras.models import Sequential, Model\n",
        "from keras.layers import Flatten, Dense, Dropout\n",
        "from keras.layers import Conv2D, MaxPooling2D, ZeroPadding2D, BatchNormalization\n",
        "\n",
        "# Creating top_model aka Fully Connected layers\n",
        "def addTop(bottom_model, num_classes, D=4096):\n",
        "    top_model = bottom_model.output\n",
        "    top_model = Flatten(name='Flatten')(top_model)\n",
        "    top_model = Dense(D,activation='relu')(top_model)\n",
        "    top_model = Dropout(0.5)(top_model)\n",
        "    top_model = Dense(D, activation='relu')(top_model)\n",
        "    top_model = Dropout(0.5)(top_model)\n",
        "    top_model = Dense(num_classes, activation='softmax')(top_model)\n",
        "    return top_model"
      ],
      "execution_count": 46,
      "outputs": []
    },
    {
      "cell_type": "code",
      "metadata": {
        "scrolled": false,
        "id": "pcqhw8a0LLv0",
        "colab_type": "code",
        "colab": {
          "base_uri": "https://localhost:8080/",
          "height": 1000
        },
        "outputId": "7f50fb54-0fd9-4e0e-d1b8-75f850b82784"
      },
      "source": [
        "num_classes=5\n",
        "FC_head = addTop(mn_model, num_classes)\n",
        "model = Model(inputs=mn_model.input, outputs=FC_head)\n",
        "print(model.summary())"
      ],
      "execution_count": 47,
      "outputs": [
        {
          "output_type": "stream",
          "text": [
            "Model: \"model_3\"\n",
            "_________________________________________________________________\n",
            "Layer (type)                 Output Shape              Param #   \n",
            "=================================================================\n",
            "input_2 (InputLayer)         (None, 224, 224, 3)       0         \n",
            "_________________________________________________________________\n",
            "conv1_pad (ZeroPadding2D)    (None, 225, 225, 3)       0         \n",
            "_________________________________________________________________\n",
            "conv1 (Conv2D)               (None, 112, 112, 32)      864       \n",
            "_________________________________________________________________\n",
            "conv1_bn (BatchNormalization (None, 112, 112, 32)      128       \n",
            "_________________________________________________________________\n",
            "conv1_relu (ReLU)            (None, 112, 112, 32)      0         \n",
            "_________________________________________________________________\n",
            "conv_dw_1 (DepthwiseConv2D)  (None, 112, 112, 32)      288       \n",
            "_________________________________________________________________\n",
            "conv_dw_1_bn (BatchNormaliza (None, 112, 112, 32)      128       \n",
            "_________________________________________________________________\n",
            "conv_dw_1_relu (ReLU)        (None, 112, 112, 32)      0         \n",
            "_________________________________________________________________\n",
            "conv_pw_1 (Conv2D)           (None, 112, 112, 64)      2048      \n",
            "_________________________________________________________________\n",
            "conv_pw_1_bn (BatchNormaliza (None, 112, 112, 64)      256       \n",
            "_________________________________________________________________\n",
            "conv_pw_1_relu (ReLU)        (None, 112, 112, 64)      0         \n",
            "_________________________________________________________________\n",
            "conv_pad_2 (ZeroPadding2D)   (None, 113, 113, 64)      0         \n",
            "_________________________________________________________________\n",
            "conv_dw_2 (DepthwiseConv2D)  (None, 56, 56, 64)        576       \n",
            "_________________________________________________________________\n",
            "conv_dw_2_bn (BatchNormaliza (None, 56, 56, 64)        256       \n",
            "_________________________________________________________________\n",
            "conv_dw_2_relu (ReLU)        (None, 56, 56, 64)        0         \n",
            "_________________________________________________________________\n",
            "conv_pw_2 (Conv2D)           (None, 56, 56, 128)       8192      \n",
            "_________________________________________________________________\n",
            "conv_pw_2_bn (BatchNormaliza (None, 56, 56, 128)       512       \n",
            "_________________________________________________________________\n",
            "conv_pw_2_relu (ReLU)        (None, 56, 56, 128)       0         \n",
            "_________________________________________________________________\n",
            "conv_dw_3 (DepthwiseConv2D)  (None, 56, 56, 128)       1152      \n",
            "_________________________________________________________________\n",
            "conv_dw_3_bn (BatchNormaliza (None, 56, 56, 128)       512       \n",
            "_________________________________________________________________\n",
            "conv_dw_3_relu (ReLU)        (None, 56, 56, 128)       0         \n",
            "_________________________________________________________________\n",
            "conv_pw_3 (Conv2D)           (None, 56, 56, 128)       16384     \n",
            "_________________________________________________________________\n",
            "conv_pw_3_bn (BatchNormaliza (None, 56, 56, 128)       512       \n",
            "_________________________________________________________________\n",
            "conv_pw_3_relu (ReLU)        (None, 56, 56, 128)       0         \n",
            "_________________________________________________________________\n",
            "conv_pad_4 (ZeroPadding2D)   (None, 57, 57, 128)       0         \n",
            "_________________________________________________________________\n",
            "conv_dw_4 (DepthwiseConv2D)  (None, 28, 28, 128)       1152      \n",
            "_________________________________________________________________\n",
            "conv_dw_4_bn (BatchNormaliza (None, 28, 28, 128)       512       \n",
            "_________________________________________________________________\n",
            "conv_dw_4_relu (ReLU)        (None, 28, 28, 128)       0         \n",
            "_________________________________________________________________\n",
            "conv_pw_4 (Conv2D)           (None, 28, 28, 256)       32768     \n",
            "_________________________________________________________________\n",
            "conv_pw_4_bn (BatchNormaliza (None, 28, 28, 256)       1024      \n",
            "_________________________________________________________________\n",
            "conv_pw_4_relu (ReLU)        (None, 28, 28, 256)       0         \n",
            "_________________________________________________________________\n",
            "conv_dw_5 (DepthwiseConv2D)  (None, 28, 28, 256)       2304      \n",
            "_________________________________________________________________\n",
            "conv_dw_5_bn (BatchNormaliza (None, 28, 28, 256)       1024      \n",
            "_________________________________________________________________\n",
            "conv_dw_5_relu (ReLU)        (None, 28, 28, 256)       0         \n",
            "_________________________________________________________________\n",
            "conv_pw_5 (Conv2D)           (None, 28, 28, 256)       65536     \n",
            "_________________________________________________________________\n",
            "conv_pw_5_bn (BatchNormaliza (None, 28, 28, 256)       1024      \n",
            "_________________________________________________________________\n",
            "conv_pw_5_relu (ReLU)        (None, 28, 28, 256)       0         \n",
            "_________________________________________________________________\n",
            "conv_pad_6 (ZeroPadding2D)   (None, 29, 29, 256)       0         \n",
            "_________________________________________________________________\n",
            "conv_dw_6 (DepthwiseConv2D)  (None, 14, 14, 256)       2304      \n",
            "_________________________________________________________________\n",
            "conv_dw_6_bn (BatchNormaliza (None, 14, 14, 256)       1024      \n",
            "_________________________________________________________________\n",
            "conv_dw_6_relu (ReLU)        (None, 14, 14, 256)       0         \n",
            "_________________________________________________________________\n",
            "conv_pw_6 (Conv2D)           (None, 14, 14, 512)       131072    \n",
            "_________________________________________________________________\n",
            "conv_pw_6_bn (BatchNormaliza (None, 14, 14, 512)       2048      \n",
            "_________________________________________________________________\n",
            "conv_pw_6_relu (ReLU)        (None, 14, 14, 512)       0         \n",
            "_________________________________________________________________\n",
            "conv_dw_7 (DepthwiseConv2D)  (None, 14, 14, 512)       4608      \n",
            "_________________________________________________________________\n",
            "conv_dw_7_bn (BatchNormaliza (None, 14, 14, 512)       2048      \n",
            "_________________________________________________________________\n",
            "conv_dw_7_relu (ReLU)        (None, 14, 14, 512)       0         \n",
            "_________________________________________________________________\n",
            "conv_pw_7 (Conv2D)           (None, 14, 14, 512)       262144    \n",
            "_________________________________________________________________\n",
            "conv_pw_7_bn (BatchNormaliza (None, 14, 14, 512)       2048      \n",
            "_________________________________________________________________\n",
            "conv_pw_7_relu (ReLU)        (None, 14, 14, 512)       0         \n",
            "_________________________________________________________________\n",
            "conv_dw_8 (DepthwiseConv2D)  (None, 14, 14, 512)       4608      \n",
            "_________________________________________________________________\n",
            "conv_dw_8_bn (BatchNormaliza (None, 14, 14, 512)       2048      \n",
            "_________________________________________________________________\n",
            "conv_dw_8_relu (ReLU)        (None, 14, 14, 512)       0         \n",
            "_________________________________________________________________\n",
            "conv_pw_8 (Conv2D)           (None, 14, 14, 512)       262144    \n",
            "_________________________________________________________________\n",
            "conv_pw_8_bn (BatchNormaliza (None, 14, 14, 512)       2048      \n",
            "_________________________________________________________________\n",
            "conv_pw_8_relu (ReLU)        (None, 14, 14, 512)       0         \n",
            "_________________________________________________________________\n",
            "conv_dw_9 (DepthwiseConv2D)  (None, 14, 14, 512)       4608      \n",
            "_________________________________________________________________\n",
            "conv_dw_9_bn (BatchNormaliza (None, 14, 14, 512)       2048      \n",
            "_________________________________________________________________\n",
            "conv_dw_9_relu (ReLU)        (None, 14, 14, 512)       0         \n",
            "_________________________________________________________________\n",
            "conv_pw_9 (Conv2D)           (None, 14, 14, 512)       262144    \n",
            "_________________________________________________________________\n",
            "conv_pw_9_bn (BatchNormaliza (None, 14, 14, 512)       2048      \n",
            "_________________________________________________________________\n",
            "conv_pw_9_relu (ReLU)        (None, 14, 14, 512)       0         \n",
            "_________________________________________________________________\n",
            "conv_dw_10 (DepthwiseConv2D) (None, 14, 14, 512)       4608      \n",
            "_________________________________________________________________\n",
            "conv_dw_10_bn (BatchNormaliz (None, 14, 14, 512)       2048      \n",
            "_________________________________________________________________\n",
            "conv_dw_10_relu (ReLU)       (None, 14, 14, 512)       0         \n",
            "_________________________________________________________________\n",
            "conv_pw_10 (Conv2D)          (None, 14, 14, 512)       262144    \n",
            "_________________________________________________________________\n",
            "conv_pw_10_bn (BatchNormaliz (None, 14, 14, 512)       2048      \n",
            "_________________________________________________________________\n",
            "conv_pw_10_relu (ReLU)       (None, 14, 14, 512)       0         \n",
            "_________________________________________________________________\n",
            "conv_dw_11 (DepthwiseConv2D) (None, 14, 14, 512)       4608      \n",
            "_________________________________________________________________\n",
            "conv_dw_11_bn (BatchNormaliz (None, 14, 14, 512)       2048      \n",
            "_________________________________________________________________\n",
            "conv_dw_11_relu (ReLU)       (None, 14, 14, 512)       0         \n",
            "_________________________________________________________________\n",
            "conv_pw_11 (Conv2D)          (None, 14, 14, 512)       262144    \n",
            "_________________________________________________________________\n",
            "conv_pw_11_bn (BatchNormaliz (None, 14, 14, 512)       2048      \n",
            "_________________________________________________________________\n",
            "conv_pw_11_relu (ReLU)       (None, 14, 14, 512)       0         \n",
            "_________________________________________________________________\n",
            "conv_pad_12 (ZeroPadding2D)  (None, 15, 15, 512)       0         \n",
            "_________________________________________________________________\n",
            "conv_dw_12 (DepthwiseConv2D) (None, 7, 7, 512)         4608      \n",
            "_________________________________________________________________\n",
            "conv_dw_12_bn (BatchNormaliz (None, 7, 7, 512)         2048      \n",
            "_________________________________________________________________\n",
            "conv_dw_12_relu (ReLU)       (None, 7, 7, 512)         0         \n",
            "_________________________________________________________________\n",
            "conv_pw_12 (Conv2D)          (None, 7, 7, 1024)        524288    \n",
            "_________________________________________________________________\n",
            "conv_pw_12_bn (BatchNormaliz (None, 7, 7, 1024)        4096      \n",
            "_________________________________________________________________\n",
            "conv_pw_12_relu (ReLU)       (None, 7, 7, 1024)        0         \n",
            "_________________________________________________________________\n",
            "conv_dw_13 (DepthwiseConv2D) (None, 7, 7, 1024)        9216      \n",
            "_________________________________________________________________\n",
            "conv_dw_13_bn (BatchNormaliz (None, 7, 7, 1024)        4096      \n",
            "_________________________________________________________________\n",
            "conv_dw_13_relu (ReLU)       (None, 7, 7, 1024)        0         \n",
            "_________________________________________________________________\n",
            "conv_pw_13 (Conv2D)          (None, 7, 7, 1024)        1048576   \n",
            "_________________________________________________________________\n",
            "conv_pw_13_bn (BatchNormaliz (None, 7, 7, 1024)        4096      \n",
            "_________________________________________________________________\n",
            "conv_pw_13_relu (ReLU)       (None, 7, 7, 1024)        0         \n",
            "_________________________________________________________________\n",
            "Flatten (Flatten)            (None, 50176)             0         \n",
            "_________________________________________________________________\n",
            "dense_7 (Dense)              (None, 4096)              205524992 \n",
            "_________________________________________________________________\n",
            "dropout_5 (Dropout)          (None, 4096)              0         \n",
            "_________________________________________________________________\n",
            "dense_8 (Dense)              (None, 4096)              16781312  \n",
            "_________________________________________________________________\n",
            "dropout_6 (Dropout)          (None, 4096)              0         \n",
            "_________________________________________________________________\n",
            "dense_9 (Dense)              (None, 5)                 20485     \n",
            "=================================================================\n",
            "Total params: 225,555,653\n",
            "Trainable params: 222,326,789\n",
            "Non-trainable params: 3,228,864\n",
            "_________________________________________________________________\n",
            "None\n"
          ],
          "name": "stdout"
        }
      ]
    },
    {
      "cell_type": "code",
      "metadata": {
        "scrolled": false,
        "id": "EzbYHpymLLwG",
        "colab_type": "code",
        "colab": {
          "base_uri": "https://localhost:8080/",
          "height": 52
        },
        "outputId": "45418929-9529-460a-ac1f-f5a3f425f4ec"
      },
      "source": [
        "from keras.preprocessing.image import ImageDataGenerator\n",
        "\n",
        "train_dir = '/content/drive/My Drive/Datascience/face_recognition/train'\n",
        "val_dir = '/content/drive/My Drive/Datascience/face_recognition/val'\n",
        "\n",
        "train_datagen = ImageDataGenerator(\n",
        "    rescale=1./255,\n",
        "    rotation_range=30,\n",
        "    zoom_range=0.3,\n",
        "    shear_range=0.3,\n",
        "    horizontal_flip=True,\n",
        "    vertical_flip=False,\n",
        "    width_shift_range=0.4,\n",
        "    height_shift_range=0.4,\n",
        "    fill_mode='nearest'\n",
        ")\n",
        "\n",
        "val_datagen = ImageDataGenerator(\n",
        "    rescale=1./255\n",
        ")\n",
        "\n",
        "train_generator = train_datagen.flow_from_directory(\n",
        "    train_dir,\n",
        "    target_size=(img_rows, img_cols),\n",
        "    class_mode='categorical',\n",
        "    batch_size=8,\n",
        "    shuffle=True\n",
        ")\n",
        "\n",
        "val_generator = val_datagen.flow_from_directory(\n",
        "    val_dir,\n",
        "    target_size=(img_rows, img_cols),\n",
        "    class_mode='categorical',\n",
        "    batch_size=8,\n",
        "    shuffle=False\n",
        ")"
      ],
      "execution_count": 48,
      "outputs": [
        {
          "output_type": "stream",
          "text": [
            "Found 93 images belonging to 5 classes.\n",
            "Found 25 images belonging to 5 classes.\n"
          ],
          "name": "stdout"
        }
      ]
    },
    {
      "cell_type": "code",
      "metadata": {
        "id": "XNNU-8wwLLwY",
        "colab_type": "code",
        "colab": {}
      },
      "source": [
        "from keras.callbacks import ModelCheckpoint, EarlyStopping\n",
        "\n",
        "checkpoint = ModelCheckpoint('face_recog.h5',\n",
        "                             monitor='val_loss',\n",
        "                             mode='min',\n",
        "                             save_best_only=True,\n",
        "                             verbose=1\n",
        "                            )\n",
        "\n",
        "earlystopping = EarlyStopping(monitor='val_loss',\n",
        "                             patience=3,\n",
        "                             min_delta=0,\n",
        "                             verbose=1)\n",
        "\n",
        "callbacks = [checkpoint, earlystopping]"
      ],
      "execution_count": 49,
      "outputs": []
    },
    {
      "cell_type": "code",
      "metadata": {
        "id": "O50zs7PrLLwr",
        "colab_type": "code",
        "colab": {}
      },
      "source": [
        "from keras.optimizers import RMSprop\n",
        "optimizer = RMSprop(lr=1e-5, decay=1e-7)\n",
        "model.compile(loss='categorical_crossentropy', optimizer=optimizer, metrics=['accuracy'])"
      ],
      "execution_count": 50,
      "outputs": []
    },
    {
      "cell_type": "code",
      "metadata": {
        "id": "RxFkP4EpLLw7",
        "colab_type": "code",
        "colab": {
          "base_uri": "https://localhost:8080/",
          "height": 729
        },
        "outputId": "94bb9d0a-5635-476d-f29b-35f14649aead"
      },
      "source": [
        "history = model.fit_generator(train_generator, \n",
        "                             epochs=10,\n",
        "                             validation_data=val_generator,\n",
        "                             callbacks=callbacks)"
      ],
      "execution_count": 51,
      "outputs": [
        {
          "output_type": "stream",
          "text": [
            "Epoch 1/10\n",
            "12/12 [==============================] - 3s 247ms/step - loss: 4.0472 - accuracy: 0.1935 - val_loss: 0.4543 - val_accuracy: 0.3200\n",
            "\n",
            "Epoch 00001: val_loss improved from inf to 0.45426, saving model to face_recog.h5\n",
            "Epoch 2/10\n",
            "12/12 [==============================] - 1s 70ms/step - loss: 3.4341 - accuracy: 0.2796 - val_loss: 1.0556 - val_accuracy: 0.4400\n",
            "\n",
            "Epoch 00002: val_loss did not improve from 0.45426\n",
            "Epoch 3/10\n",
            "12/12 [==============================] - 2s 147ms/step - loss: 3.0905 - accuracy: 0.3548 - val_loss: 0.5015 - val_accuracy: 0.4000\n",
            "\n",
            "Epoch 00003: val_loss did not improve from 0.45426\n",
            "Epoch 4/10\n",
            "12/12 [==============================] - 2s 140ms/step - loss: 3.0903 - accuracy: 0.3441 - val_loss: 0.4317 - val_accuracy: 0.5200\n",
            "\n",
            "Epoch 00004: val_loss improved from 0.45426 to 0.43168, saving model to face_recog.h5\n",
            "Epoch 5/10\n",
            "12/12 [==============================] - 1s 87ms/step - loss: 3.1108 - accuracy: 0.2796 - val_loss: 0.1644 - val_accuracy: 0.4800\n",
            "\n",
            "Epoch 00005: val_loss improved from 0.43168 to 0.16442, saving model to face_recog.h5\n",
            "Epoch 6/10\n",
            "12/12 [==============================] - 1s 71ms/step - loss: 3.3661 - accuracy: 0.2581 - val_loss: 0.2128 - val_accuracy: 0.5200\n",
            "\n",
            "Epoch 00006: val_loss did not improve from 0.16442\n",
            "Epoch 7/10\n",
            "12/12 [==============================] - 2s 142ms/step - loss: 2.1821 - accuracy: 0.4516 - val_loss: 0.1581 - val_accuracy: 0.4800\n",
            "\n",
            "Epoch 00007: val_loss improved from 0.16442 to 0.15811, saving model to face_recog.h5\n",
            "Epoch 8/10\n",
            "12/12 [==============================] - 1s 73ms/step - loss: 2.2358 - accuracy: 0.4086 - val_loss: 0.1763 - val_accuracy: 0.4800\n",
            "\n",
            "Epoch 00008: val_loss did not improve from 0.15811\n",
            "Epoch 9/10\n",
            "12/12 [==============================] - 2s 139ms/step - loss: 2.6183 - accuracy: 0.4301 - val_loss: 0.4159 - val_accuracy: 0.5600\n",
            "\n",
            "Epoch 00009: val_loss did not improve from 0.15811\n",
            "Epoch 10/10\n",
            "12/12 [==============================] - 2s 135ms/step - loss: 2.0252 - accuracy: 0.4731 - val_loss: 0.2621 - val_accuracy: 0.5600\n",
            "\n",
            "Epoch 00010: val_loss did not improve from 0.15811\n",
            "Epoch 00010: early stopping\n"
          ],
          "name": "stdout"
        }
      ]
    },
    {
      "cell_type": "code",
      "metadata": {
        "id": "x84MVVMmLLxH",
        "colab_type": "code",
        "colab": {}
      },
      "source": [
        "import cv2\n",
        "import numpy as np"
      ],
      "execution_count": 52,
      "outputs": []
    },
    {
      "cell_type": "code",
      "metadata": {
        "id": "NqgTwHXQLLxQ",
        "colab_type": "code",
        "colab": {
          "base_uri": "https://localhost:8080/",
          "height": 34
        },
        "outputId": "e454924d-17d4-4130-a272-92300d49ccec"
      },
      "source": [
        "print(train_generator.class_indices)"
      ],
      "execution_count": 53,
      "outputs": [
        {
          "output_type": "stream",
          "text": [
            "{'ben_afflek': 0, 'elton_john': 1, 'jerry_seinfeld': 2, 'madonna': 3, 'mindy_kaling': 4}\n"
          ],
          "name": "stdout"
        }
      ]
    },
    {
      "cell_type": "code",
      "metadata": {
        "scrolled": false,
        "id": "SuTobIXILLxg",
        "colab_type": "code",
        "colab": {}
      },
      "source": [
        "path = '/content/drive/My Drive/Datascience/face_recognition/test'\n",
        "faces_dict = {'[0]':'Ben Afflek', '[1]':'Elton John', '[2]':'Jerry Seinfeld', '[3]':'[Madonna]', '[4]':'Mindy Kaling'}\n",
        "font = cv2.FONT_HERSHEY_SIMPLEX\n",
        "green_color = (0, 255, 0)\n",
        "\n",
        "def diplay_photo(path):\n",
        "    photo = cv2.imread(path)\n",
        "    ori_photo = photo.copy()\n",
        "    ori_photo = cv2.resize(ori_photo, (800,600))\n",
        "    \n",
        "    photo = cv2.resize(photo, (224, 224), interpolation=cv2.INTER_LINEAR)\n",
        "    photo = photo/255.\n",
        "    photo = photo.reshape(1, 224, 224, 3)\n",
        "    res = np.argmax(model.predict(photo, 1, verbose = 0), axis=1)\n",
        "    print(res)\n",
        "    name=faces_dict[str(res)]\n",
        "    print(name)\n",
        "    cv2.putText(ori_photo, name, (10, 11), font, 1, green_color, 2)\n",
        "    # while(True):\n",
        "    #     cv2.imshow(\"ori_photo\", name)\n",
        "    #     if cv2.waitKey()==27: # Enter Key\n",
        "    #         cv2.destroyAllWindows()\n",
        "    #         break"
      ],
      "execution_count": 54,
      "outputs": []
    },
    {
      "cell_type": "code",
      "metadata": {
        "id": "UP5yspaKLLxv",
        "colab_type": "code",
        "colab": {
          "base_uri": "https://localhost:8080/",
          "height": 173
        },
        "outputId": "402377eb-3606-470a-9584-1ad880bf9768"
      },
      "source": [
        "import os\n",
        "path = '/content/drive/My Drive/Datascience/face_recognition/test/'\n",
        "# diplay_photo(path)\n",
        "for image_path in os.listdir(path):\n",
        "    print(path+image_path)\n",
        "    diplay_photo(path+image_path)\n"
      ],
      "execution_count": 56,
      "outputs": [
        {
          "output_type": "stream",
          "text": [
            "/content/drive/My Drive/Datascience/face_recognition/test/madonna_sc_768x1024.png\n",
            "[3]\n",
            "[Madonna]\n",
            "/content/drive/My Drive/Datascience/face_recognition/test/283920_original.jpg\n",
            "[2]\n",
            "Jerry Seinfeld\n",
            "/content/drive/My Drive/Datascience/face_recognition/test/Mindy-Kaling.jpg\n",
            "[4]\n",
            "Mindy Kaling\n"
          ],
          "name": "stdout"
        }
      ]
    },
    {
      "cell_type": "code",
      "metadata": {
        "id": "Kk-tYXgFLLx_",
        "colab_type": "code",
        "colab": {}
      },
      "source": [
        ""
      ],
      "execution_count": null,
      "outputs": []
    }
  ]
}